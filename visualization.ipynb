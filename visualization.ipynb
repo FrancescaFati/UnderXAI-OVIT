{
 "cells": [
  {
   "cell_type": "code",
   "execution_count": 69,
   "metadata": {},
   "outputs": [],
   "source": [
    "import os\n",
    "import numpy as np\n",
    "import nibabel as nib\n",
    "import torch\n",
    "import matplotlib.pyplot as plt\n",
    "from matplotlib.colors import ListedColormap\n",
    "from ipywidgets import interact, IntSlider\n",
    "\n",
    "def load_image(file_path):\n",
    "    if file_path.endswith('.nii') or file_path.endswith('.nii.gz'):\n",
    "        try:\n",
    "            img = nib.load(file_path)\n",
    "            data = img.get_fdata()\n",
    "            if data.ndim == 4 and data.shape[0] == 1:\n",
    "                data = data[0]  # Remove leading singleton dimension\n",
    "            return data\n",
    "        except Exception as e:\n",
    "            print(f\"Error loading NIfTI file {file_path}: {e}\")\n",
    "            return None\n",
    "    elif file_path.endswith('.pth'):\n",
    "        try:\n",
    "            data = torch.load(file_path)\n",
    "            if isinstance(data, torch.Tensor):\n",
    "                data = data.numpy()\n",
    "            if data.ndim == 4 and data.shape[0] == 1:\n",
    "                data = data[0]\n",
    "            return data\n",
    "        except Exception as e:\n",
    "            print(f\"Error loading PyTorch file {file_path}: {e}\")\n",
    "            return None\n",
    "    else:\n",
    "        print(f\"Unsupported file format for: {file_path}\")\n",
    "        return None\n",
    "\n",
    "def visualize_slices(original_path, prediction_path, overlay_style='colormap'):\n",
    "    data_original = load_image(original_path)\n",
    "    data_prediction = load_image(prediction_path)\n",
    "\n",
    "    if data_original is None or data_prediction is None:\n",
    "        print(\"Cannot visualize: one or both files failed to load.\")\n",
    "        return\n",
    "\n",
    "    def plot_comparison_slices(slice_index):\n",
    "        fig, axes = plt.subplots(1, 2, figsize=(16, 8))\n",
    "        \n",
    "        original_slice = data_original[:, :, slice_index]\n",
    "        prediction_slice = data_prediction[:, :, slice_index]\n",
    "\n",
    "        original_rotated = np.rot90(original_slice, k=3)\n",
    "        prediction_rotated = np.rot90(prediction_slice, k=3)\n",
    "\n",
    "        axes[0].imshow(original_rotated, cmap='gray')\n",
    "        axes[0].set_title(f'Original Image (Slice {slice_index}, Rotated)')\n",
    "        axes[0].axis('off')\n",
    "\n",
    "        axes[1].imshow(original_rotated, cmap='gray')\n",
    "\n",
    "        prediction_mask = (prediction_rotated == 0)\n",
    "\n",
    "        if overlay_style == 'colormap':\n",
    "            axes[1].imshow(np.ma.masked_where(prediction_mask, prediction_rotated),\n",
    "                           cmap='viridis', alpha=0.5, vmin=1, vmax=9)\n",
    "        elif overlay_style == 'yellow':\n",
    "            colors = [(0, 0, 0, 0), (1, 1, 0, 1)]\n",
    "            custom_cmap = ListedColormap(colors)\n",
    "            axes[1].imshow(np.ma.masked_where(prediction_mask, prediction_rotated),\n",
    "                           cmap=custom_cmap, alpha=0.5, vmin=0, vmax=1)\n",
    "        else:\n",
    "            raise ValueError(\"Unsupported overlay style\")\n",
    "\n",
    "        axes[1].set_title(f'Prediction Overlay (Slice {slice_index}, Rotated)')\n",
    "        axes[1].axis('off')\n",
    "\n",
    "        plt.tight_layout()\n",
    "        plt.show()\n",
    "\n",
    "    max_slice = min(data_original.shape[2], data_prediction.shape[2]) - 1\n",
    "    interact(plot_comparison_slices, slice_index=IntSlider(min=0, max=max_slice, step=1, value=max_slice // 2))\n"
   ]
  },
  {
   "cell_type": "code",
   "execution_count": null,
   "metadata": {},
   "outputs": [
    {
     "data": {
      "application/vnd.jupyter.widget-view+json": {
       "model_id": "76ec9c44e30d4246b7d2bdb49d91cc29",
       "version_major": 2,
       "version_minor": 0
      },
      "text/plain": [
       "interactive(children=(IntSlider(value=85, description='slice_index', max=170), Output()), _dom_classes=('widge…"
      ]
     },
     "metadata": {},
     "output_type": "display_data"
    }
   ],
   "source": [
    "# Example usage\n",
    "visualize_slices(\n",
    "    original_path='/home/ffati/UnderXAI-OVIT/CT.nii',\n",
    "    prediction_path='/home/ffati/UnderXAI-OVIT/ovseg_predictions_pod_om/CT.nii',\n",
    "    overlay_style='yellow'  \n"
   ]
  },
  {
   "cell_type": "code",
   "execution_count": 73,
   "metadata": {},
   "outputs": [
    {
     "name": "stderr",
     "output_type": "stream",
     "text": [
      "You are using `torch.load` with `weights_only=False` (the current default value), which uses the default pickle module implicitly. It is possible to construct malicious pickle data which will execute arbitrary code during unpickling (See https://github.com/pytorch/pytorch/blob/main/SECURITY.md#untrusted-models for more details). In a future release, the default value for `weights_only` will be flipped to `True`. This limits the functions that could be executed during unpickling. Arbitrary objects will no longer be allowed to be loaded via this mode unless they are explicitly allowlisted by the user via `torch.serialization.add_safe_globals`. We recommend you start setting `weights_only=True` for any use case where you don't have full control of the loaded file. Please open an issue on GitHub for any issues related to this experimental feature.\n"
     ]
    },
    {
     "data": {
      "application/vnd.jupyter.widget-view+json": {
       "model_id": "4ba3beba50d845a2b3d7c88481e5d0fa",
       "version_major": 2,
       "version_minor": 0
      },
      "text/plain": [
       "interactive(children=(IntSlider(value=127, description='slice_index', max=255), Output()), _dom_classes=('widg…"
      ]
     },
     "metadata": {},
     "output_type": "display_data"
    }
   ],
   "source": [
    "# Example usage\n",
    "visualize_slices(\n",
    "    original_path='/home/ffati/UnderXAI-OVIT/processed_data/pth/CT.pth',\n",
    "    prediction_path='/home/ffati/UnderXAI-OVIT/processed_data/pth/OC_mask.pth',\n",
    "    overlay_style='yellow'  # or 'colormap'\n",
    ")\n"
   ]
  }
 ],
 "metadata": {
  "kernelspec": {
   "display_name": "underxai",
   "language": "python",
   "name": "python3"
  },
  "language_info": {
   "codemirror_mode": {
    "name": "ipython",
    "version": 3
   },
   "file_extension": ".py",
   "mimetype": "text/x-python",
   "name": "python",
   "nbconvert_exporter": "python",
   "pygments_lexer": "ipython3",
   "version": "3.11.4"
  }
 },
 "nbformat": 4,
 "nbformat_minor": 2
}
